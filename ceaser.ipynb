{
 "cells": [
  {
   "cell_type": "code",
   "execution_count": 2,
   "id": "d2bc3cf5-ed80-4c23-9073-032782d0adbe",
   "metadata": {},
   "outputs": [
    {
     "name": "stdout",
     "output_type": "stream",
     "text": [
      "Введите текст\n"
     ]
    },
    {
     "name": "stdin",
     "output_type": "stream",
     "text": [
      " привет\n"
     ]
    },
    {
     "name": "stdout",
     "output_type": "stream",
     "text": [
      "Введите шаг сдвига\n"
     ]
    },
    {
     "name": "stdin",
     "output_type": "stream",
     "text": [
      " 1\n"
     ]
    },
    {
     "name": "stdout",
     "output_type": "stream",
     "text": [
      "Если текст на русском, нажмите 1. На английском 0\n"
     ]
    },
    {
     "name": "stdin",
     "output_type": "stream",
     "text": [
      " 1\n"
     ]
    },
    {
     "name": "stdout",
     "output_type": "stream",
     "text": [
      "Для шифроки нажмите 1, для дешифровки 0\n"
     ]
    },
    {
     "name": "stdin",
     "output_type": "stream",
     "text": [
      " 1\n"
     ]
    },
    {
     "name": "stdout",
     "output_type": "stream",
     "text": [
      "рсйгжу\n"
     ]
    }
   ],
   "source": [
    "# ШИФР ЦЕЗАРЯ - ШИФРУЕТ И РАСШИФРОВЫВАЕТ НА АНГЛИЙСКОМ И РУССКОМ ЯЗЫКАХ\n",
    "def decription_en(s):\n",
    "    upper_en =  'ABCDEFGHIJKLMNOPQRSTUVWXYZABCDEFGHIJKLMNOPQRSTUVWXYZ'\n",
    "    lower_en = 'abcdefghijklmnopqrstuvwxyzabcdefghijklmnopqrstuvwxyz'\n",
    "    st = str()\n",
    "\n",
    "    for i in range(1, 26):\n",
    "        for j in s:\n",
    "            if j in upper_en:\n",
    "                find_i = upper_en.find(j)\n",
    "                find_i += i\n",
    "                st += upper_en[find_i]\n",
    "            elif j in lower_en:\n",
    "                find_i = lower_en.find(j)\n",
    "                find_i += i\n",
    "                st += lower_en[find_i]\n",
    "            else:\n",
    "                st += j\n",
    "    print(st)\n",
    "\n",
    "def rus_encription(n, s):\n",
    "    upper_ru =  'АБВГДЕЖЗИЙКЛМНОПРСТУФХЦЧШЩЪЫЬЭЮЯАБВГДЕЖЗИЙКЛМНОПРСТУФХЦЧШЩЪЫЬЭЮЯ'\n",
    "    lower_ru = 'абвгдежзийклмнопрстуфхцчшщъыьэюяабвгдежзийклмнопрстуфхцчшщъыьэюя'\n",
    "    st = str()\n",
    "\n",
    "    for i in s:\n",
    "        if i in upper_ru:\n",
    "            find_i = upper_ru.find(i)\n",
    "            find_i += n\n",
    "            st += upper_ru[find_i]\n",
    "        elif i in lower_ru:\n",
    "            find_i = lower_ru.find(i)\n",
    "            find_i += n\n",
    "            st += lower_ru[find_i]\n",
    "        else:\n",
    "            st += i\n",
    "    print(st)\n",
    "\n",
    "def eng_encription(n, s):\n",
    "    upper_en =  'ABCDEFGHIJKLMNOPQRSTUVWXYZABCDEFGHIJKLMNOPQRSTUVWXYZ'\n",
    "    lower_en = 'abcdefghijklmnopqrstuvwxyzabcdefghijklmnopqrstuvwxyz'\n",
    "    st = str()\n",
    "\n",
    "    for i in s:\n",
    "        if i in upper_en:\n",
    "            find_i = upper_en.find(i)\n",
    "            find_i += n\n",
    "            st += upper_en[find_i]\n",
    "        elif i in lower_en:\n",
    "            find_i = lower_en.find(i)\n",
    "            find_i += n\n",
    "            st += lower_en[find_i]\n",
    "        else:\n",
    "            st += i\n",
    "    print(st)\n",
    "\n",
    "def rus_decription(n, s):\n",
    "    upper_ru =  'АБВГДЕЖЗИЙКЛМНОПРСТУФХЦЧШЩЪЫЬЭЮЯАБВГДЕЖЗИЙКЛМНОПРСТУФХЦЧШЩЪЫЬЭЮЯ'\n",
    "    lower_ru = 'абвгдежзийклмнопрстуфхцчшщъыьэюяабвгдежзийклмнопрстуфхцчшщъыьэюя'\n",
    "    st = str()\n",
    "\n",
    "    for i in s:\n",
    "        if i in upper_ru:\n",
    "            find_i = upper_ru.find(i)\n",
    "            find_i -= n\n",
    "            st += upper_ru[find_i]\n",
    "        elif i in lower_ru:\n",
    "            find_i = lower_ru.find(i)\n",
    "            find_i -= n\n",
    "            st += lower_ru[find_i]\n",
    "        else:\n",
    "            st += i\n",
    "    print(st)\n",
    "\n",
    "\n",
    "def eng_decription(n, s):\n",
    "    upper_en =  'ABCDEFGHIJKLMNOPQRSTUVWXYZABCDEFGHIJKLMNOPQRSTUVWXYZ'\n",
    "    lower_en = 'abcdefghijklmnopqrstuvwxyzabcdefghijklmnopqrstuvwxyz'\n",
    "    st = str()\n",
    "\n",
    "    for i in s:\n",
    "        if i in upper_en:\n",
    "            find_i = upper_en.find(i)\n",
    "            find_i -= n\n",
    "            st += upper_en[find_i]\n",
    "        elif i in lower_en:\n",
    "            find_i = lower_en.find(i)\n",
    "            find_i -= n\n",
    "            st += lower_en[find_i]\n",
    "        else:\n",
    "            st += i\n",
    "    print(st)\n",
    "\n",
    "    \n",
    "print('Введите текст')\n",
    "s = str(input())\n",
    "print('Введите шаг сдвига')\n",
    "n = int(input())\n",
    "print('Если текст на русском, нажмите 1. На английском 0')\n",
    "lang = int(input())\n",
    "if lang == 1:\n",
    "    print('Для шифроки нажмите 1, для дешифровки 0')\n",
    "    crypt = int(input())\n",
    "    if crypt == 1:\n",
    "        rus_encription(n, s)\n",
    "    else:\n",
    "        rus_decription(n, s)\n",
    "elif lang == 0:\n",
    "    print('Для шифроки нажмите 1, для дешифровки 0')\n",
    "    crypt = int(input())\n",
    "    if crypt == 1:\n",
    "        eng_encription(n, s)\n",
    "    else:\n",
    "        eng_decription(n, s)\n"
   ]
  },
  {
   "cell_type": "code",
   "execution_count": null,
   "id": "6fa2b681-1482-4b9c-b66d-45898f597ad9",
   "metadata": {},
   "outputs": [],
   "source": []
  }
 ],
 "metadata": {
  "kernelspec": {
   "display_name": "Python [conda env:base] *",
   "language": "python",
   "name": "conda-base-py"
  },
  "language_info": {
   "codemirror_mode": {
    "name": "ipython",
    "version": 3
   },
   "file_extension": ".py",
   "mimetype": "text/x-python",
   "name": "python",
   "nbconvert_exporter": "python",
   "pygments_lexer": "ipython3",
   "version": "3.12.7"
  }
 },
 "nbformat": 4,
 "nbformat_minor": 5
}
